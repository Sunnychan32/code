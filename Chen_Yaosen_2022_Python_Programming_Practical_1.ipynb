{
  "nbformat": 4,
  "nbformat_minor": 0,
  "metadata": {
    "colab": {
      "name": "Chen Yaosen - 2022_Python_Programming_Practical_1.ipynb",
      "provenance": [],
      "collapsed_sections": [],
      "include_colab_link": true
    },
    "kernelspec": {
      "name": "python3",
      "display_name": "Python 3"
    }
  },
  "cells": [
    {
      "cell_type": "markdown",
      "metadata": {
        "id": "view-in-github",
        "colab_type": "text"
      },
      "source": [
        "<a href=\"https://colab.research.google.com/github/Sunnychan32/code/blob/main/Chen_Yaosen_2022_Python_Programming_Practical_1.ipynb\" target=\"_parent\"><img src=\"https://colab.research.google.com/assets/colab-badge.svg\" alt=\"Open In Colab\"/></a>"
      ]
    },
    {
      "cell_type": "markdown",
      "metadata": {
        "id": "jp3BkDml8xiR"
      },
      "source": [
        "# **2022 Python Programming Practical 1**\n",
        "\n",
        "If you do not have one already, create a [GitHub](https://github.com) account.\n",
        "\n",
        "Create a public repository ctcuc22\n",
        "\n",
        "File --> Save a copy in GitHub under this repository\n",
        "\n",
        "For the following questions,\n",
        "\n",
        "*   standard input: keyboard\n",
        "*   standard output: screen\n",
        "\n"
      ]
    },
    {
      "cell_type": "markdown",
      "metadata": {
        "id": "-U8w0oQW9P_b"
      },
      "source": [
        "**Q1. (Converting Fahrenheit to Celsius)**\n",
        "\n",
        "Write a program that reads a Fahrenheit degree as a float from standard input, then converts it to Celsius and displays the result in standard output. The formula for the conversion is:\n",
        "```\n",
        "celsius = (5/9) * (fahrenheit - 32)\n",
        "```"
      ]
    },
    {
      "cell_type": "code",
      "metadata": {
        "id": "D0uTR7B-8qbF",
        "colab": {
          "base_uri": "https://localhost:8080/"
        },
        "outputId": "c3249e80-3fe7-41a3-95f7-dc30f43d1330"
      },
      "source": [
        "#Convert Fahrenheit to Celsius\n",
        "temp=input(\"Input temperature you like to convert in Fahrenheit:\")\n",
        "fahrenheit=float(temp)\n",
        "celsius=float((5/9)*(fahrenheit-32))\n",
        "print(\"The conversion is\", celsius, \"degrees\")"
      ],
      "execution_count": null,
      "outputs": [
        {
          "output_type": "stream",
          "name": "stdout",
          "text": [
            "Input temperature you like to convert in Fahrenheit:237.2\n",
            "The conversion is 114.0 degrees\n"
          ]
        }
      ]
    },
    {
      "cell_type": "markdown",
      "metadata": {
        "id": "7Ui5CuS_9Za1"
      },
      "source": [
        "**Q2. (Computing the volume of a cylinder)**\n",
        "\n",
        "Write a program that reads in the radius and length of a cylinder and computes its volume using the formulae:\n",
        "```\n",
        "area = radius * radius * pi\n",
        "volume = area * length\n",
        "```\n",
        "\n",
        "\n"
      ]
    },
    {
      "cell_type": "code",
      "metadata": {
        "id": "CfkRAAWV9cXS",
        "colab": {
          "base_uri": "https://localhost:8080/"
        },
        "outputId": "2857605b-9960-4217-a95c-579fc6bbddf4"
      },
      "source": [
        "#Computation of Volume\n",
        "radius=float(input(\"Input the radius of the Cylinder:\"))\n",
        "length=float(input(\"Input the length of the Cylinder:\"))\n",
        "pi=3.142\n",
        "area= radius*radius*pi\n",
        "volume=area*length\n",
        "print(\"The volume of the Cylinder is\", volume, \"cm cube\" )\n"
      ],
      "execution_count": null,
      "outputs": [
        {
          "output_type": "stream",
          "name": "stdout",
          "text": [
            "Input the radius of the Cylinder:3\n",
            "Input the length of the Cylinder:6\n",
            "The volume of the Cylinder is 169.668 cm cube\n"
          ]
        }
      ]
    },
    {
      "cell_type": "markdown",
      "source": [
        ""
      ],
      "metadata": {
        "id": "1O0dZdmIvoh9"
      }
    },
    {
      "cell_type": "markdown",
      "metadata": {
        "id": "aVhHiT8w9c7d"
      },
      "source": [
        "**Q3. (Converting miles into kilometers)**\n",
        "\n",
        "Write a program that reads a number in miles, converts it to kilometres, and outputs the result. One mile is 1.60934 kilometres. Display your answer correct to 3 decimal places."
      ]
    },
    {
      "cell_type": "code",
      "metadata": {
        "id": "PwRmweEa9fny",
        "colab": {
          "base_uri": "https://localhost:8080/"
        },
        "outputId": "19a0142b-bdae-47de-affa-11f2b7cbad03"
      },
      "source": [
        "#Convert Miles to Kilometres, correct to 3 decimal place\n",
        "\n",
        "miles=float(input(\"Input the distance in miles:\"))\n",
        "kilometres=miles/1.60934\n",
        "print(\"The distance is\", format(kilometres,\".3f\"), \"km\")"
      ],
      "execution_count": null,
      "outputs": [
        {
          "output_type": "stream",
          "name": "stdout",
          "text": [
            "Input the distance in miles:453\n",
            "The distance is 281.482 km\n"
          ]
        }
      ]
    },
    {
      "cell_type": "markdown",
      "metadata": {
        "id": "GwAIqQNY9gFd"
      },
      "source": [
        "**Q4. (Summing the digits in an integer)**\n",
        "\n",
        "Write a program that reads an integer between 0 and 1000 and adds all the digits in the integer. For example, if an integer is 932, the sum of all its digits is 14.\n",
        "\n",
        "Hint: Use the % operator to extract digits, and use the // operator to remove the extracted digit. For instance, 932 % 10 = 2 and 932 // 10 = 93"
      ]
    },
    {
      "cell_type": "code",
      "metadata": {
        "id": "aOozTwoR9j9B",
        "colab": {
          "base_uri": "https://localhost:8080/"
        },
        "outputId": "f155f450-2d67-4dcb-8439-e90d64cfa0e3"
      },
      "source": [
        "#Reads an integer between 0 and 1000 and adds all the digits in the integer\n",
        "\n",
        "integer=int(input(\"Please input an integer between 0 and 1000:\"))\n",
        "x=integer//1000\n",
        "x1=(integer-x*1000)//100\n",
        "x2=(integer-x1*100)//10\n",
        "x3=integer%10\n",
        "\n",
        "sum=x+x1+x2+x3\n",
        "print(\"The sum is \",sum)\n"
      ],
      "execution_count": null,
      "outputs": [
        {
          "output_type": "stream",
          "name": "stdout",
          "text": [
            "Please input an integer between 0 and 1000:987\n",
            "The sum is  24\n"
          ]
        }
      ]
    },
    {
      "cell_type": "markdown",
      "metadata": {
        "id": "lE0ScX9e9kcg"
      },
      "source": [
        "**Q5. (Converting an uppercase letter to lowercase)**\n",
        "\n",
        "Write a program that converts an uppercase letter from standard input to a lowercase letter by making use of its ASCII value.\n",
        "\n",
        "http://www.asciitable.com"
      ]
    },
    {
      "cell_type": "code",
      "metadata": {
        "id": "sE_bxwDs9mf6",
        "outputId": "38a3c0e1-b5fa-4875-b987-fcc66f3f6b5b",
        "colab": {
          "base_uri": "https://localhost:8080/",
          "height": 52
        }
      },
      "source": [
        "upper = input(\"Enter uppercase letter: \")\n",
        "lower = ord(upper) + 32 # ordinal\n",
        "print(chr(lower))"
      ],
      "execution_count": null,
      "outputs": [
        {
          "output_type": "stream",
          "text": [
            "Enter uppercase letter: Y\n",
            "y\n"
          ],
          "name": "stdout"
        }
      ]
    },
    {
      "cell_type": "markdown",
      "metadata": {
        "id": "KSviQY0T9m7Q"
      },
      "source": [
        "**Q6. (Finding the character of an ASCII code)**\n",
        "\n",
        "Write a program that receives an ASCII value (an integer between 0 and 127) and displays its character. For example, if the user enters 97, the program displays character a.\n",
        "\n",
        "http://www.asciitable.com"
      ]
    },
    {
      "cell_type": "code",
      "metadata": {
        "id": "YbH9Pbul9rK-",
        "colab": {
          "base_uri": "https://localhost:8080/"
        },
        "outputId": "e558747f-5a56-4295-91ed-15a25af62f63"
      },
      "source": [
        "integer=input(\"Input an integer between 0 and 127:\")\n",
        "integer2=int(integer)\n",
        "character=chr(integer2)\n",
        "print(character)"
      ],
      "execution_count": null,
      "outputs": [
        {
          "output_type": "stream",
          "name": "stdout",
          "text": [
            "Input an integer between 0 and 127:97\n",
            "a\n"
          ]
        }
      ]
    },
    {
      "cell_type": "markdown",
      "metadata": {
        "id": "V9Z95nlg97e4"
      },
      "source": [
        "**Q7. (Payroll)**\n",
        "\n",
        "Write a program that reads in the following information and prints a payroll statement. A sample input and output session is as follows:\n",
        "\n",
        "Sample input:\n",
        "```\n",
        "Enter name: Lim Ah Seng\n",
        "Enter number of hours worked weekly: 10\n",
        "Enter hourly pay rate: 6.75\n",
        "Enter CPF contribution rate(%): 20\n",
        "```\n",
        "\n",
        "Sample output:\n",
        "```\n",
        "Payroll statement for Lim Ah Seng\n",
        "Number of hours worked in week: 10\n",
        "Hourly pay rate: $6.75\n",
        "Gross pay = $67.50\n",
        "CPF contribution at 20% = $13.50\n",
        "Net pay = $54.00\n",
        "```\n",
        "\n"
      ]
    },
    {
      "cell_type": "markdown",
      "source": [
        ""
      ],
      "metadata": {
        "id": "WWKcbs5u5zcS"
      }
    },
    {
      "cell_type": "code",
      "metadata": {
        "id": "1AZvvAW499PK",
        "colab": {
          "base_uri": "https://localhost:8080/"
        },
        "outputId": "11f6fffe-28f8-42cf-d102-84820cf30ef5"
      },
      "source": [
        "#Payroll statement\n",
        "name=input(\"Enter name:\")\n",
        "hours=float(input(\"Enter number of hours worked weekly:\"))\n",
        "payrate=float(input(\"Enter hourly pay rate:\"))\n",
        "cpf=float(input(\"Enter CPF contribution rate:\"))\n",
        "gross=hours*payrate\n",
        "cpfcon=gross*(cpf/100)\n",
        "netpay=gross-cpfcon\n",
        "\n",
        "print(\"Payroll statement for \", name)\n",
        "print(\"Number of hours worked in week:\",hours)\n",
        "print(\"Hourly pay rate: $\", format(payrate, \".2f\"))\n",
        "print(\"Gross Pay = $\", format(gross, \".2f\"))\n",
        "print(\"CPF contribution at 20%= $\",format(cpfcon,\".2f\"))\n",
        "print(\"Net pay = $\",format(netpay,\".2f\"))\n",
        "\n"
      ],
      "execution_count": 35,
      "outputs": [
        {
          "output_type": "stream",
          "name": "stdout",
          "text": [
            "Enter name:Sunny\n",
            "Enter number of hours worked weekly:10\n",
            "Enter hourly pay rate:20\n",
            "Enter CPF contribution rate:20\n",
            "Payroll statement for  Sunny\n",
            "Number of hours worked in week: 10.0\n",
            "Hourly pay rate: $ 20.00\n",
            "Gross Pay = $ 200.00\n",
            "CPF contribution at 20%= $ 40.00\n",
            "Net pay = $ 160.00\n"
          ]
        }
      ]
    }
  ]
}